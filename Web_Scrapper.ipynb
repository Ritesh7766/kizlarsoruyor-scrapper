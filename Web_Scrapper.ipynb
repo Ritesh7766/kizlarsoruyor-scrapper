{
  "cells": [
    {
      "cell_type": "markdown",
      "metadata": {
        "id": "iuh0-H7su6BK"
      },
      "source": [
        "# Getting kizlarsoruyor discussions\n",
        "\n",
        "The project's goal is to retrieve all discussions relevant to a particular keyword from the Kizlarsoruyor website. Additionally, it aims to gather various attributes associated with each discussion thread, such as the date of posting, comments, and the gender of commenters. The code is designed to extract this information and present it in JSON format as the output.\n",
        "\n",
        "### How it works?\n",
        "After analyzing the website's structure, it becomes evident that the discussion results are structured in a paginated format. To be precise, the website displays 20 discussions per page, each enclosed within a div element bearing the \"filter-section\" class. The link to access the next page of discussions can be located within a div marked with the \"show-more\" class.\n",
        "\n",
        "Moreover, to access comments within a discussion, user authentication is required. The comments are presented on the website in an unordered list format, specifically identified by the \"comments-ul\" class. Furthermore, the replies to these comments can be found within another unordered list, marked with the \"comment-answers-ul\" class.\n",
        "\n",
        "Utilizing this information, we can retrieve all discussions from the provided website following the logic outlined in the following pseudocode:\n",
        "\n",
        "```\n",
        "while there is a next page:\n",
        "    fetch the HTML content of the current page using a GET request\n",
        "    for each discussion on the page:\n",
        "        parse the discussion\n",
        "        if the discussion contains comments:\n",
        "            parse the comments\n",
        "    obtain the URL of the next page\n",
        "        \n",
        "```\n",
        "\n",
        "## The following classes are defined in the code:\n",
        "### Session class\n",
        "\n",
        "The Python code defines a class called Session that is designed to facilitate making HTTP requests using the requests library. It sets up a session with specific headers and cookies to mimic the behavior of a logged-in user when interacting with a website.\n",
        "\n",
        "### Scrapper class\n",
        "\n",
        "This Python code defines a class named Scrapper, which is designed to scrape and parse discussions and comments from the specified website.\n",
        "\n",
        "Overall, this code is a web scraper designed to navigate through discussion pages on a website, extract relevant information about discussions and comments, and structure the data into a format that can be used for further analysis or storage, such as a list of dictionaries. It utilizes the requests library for making HTTP requests and BeautifulSoup for HTML parsing. Additionally, it handles errors that may occur during the scraping process and provides informative error messages.\n",
        "\n",
        "#### Usage\n",
        "\n",
        "To retrieve all the discussions along with their associated attributes, you can utilize the scrap_data function, which is defined as follows. This function takes a keyword as input and provides all the discussions and their respective details in JSON format. Additionally, the results are saved to a JSON file located in a predetermined directory.\n",
        "\n",
        "```python\n",
        "from sessions.sessions import Session\n",
        "from scrapper.scrapper import Scrapper\n",
        "import json\n",
        "\n",
        "\n",
        "# Retured the scrapped data in json format.\n",
        "def scrap_data(keyword):\n",
        "    # Create a session\n",
        "    session = Session(keyword)\n",
        "\n",
        "    # Create a web scrapper for the given website\n",
        "    scrapper = Scrapper(session)\n",
        "    \n",
        "    data = scrapper.parse_page()\n",
        "\n",
        "    # Store the results in a json file.\n",
        "    with open(f'./results/discussions_{keyword}.json', 'w') as json_file:\n",
        "        json.dump(data, json_file, indent=4)\n",
        "\n",
        "    print(f\"Scrapped data can be found in ./results/discussions_{keyword}.json\")\n",
        "    return data\n",
        "\n",
        "\n",
        "if __name__ == '__main__':\n",
        "    scrap_data(keyword='nestle')\n",
        "```\n",
        "\n",
        "### The resulting json has the following structure:\n",
        "```json\n",
        "[\n",
        "    {\n",
        "        \"topic\": {\n",
        "            \"name\": \"Sa\\u011fl\\u0131k & Diyet\",\n",
        "            \"url\": \"https://www.kizlarsoruyor.com/saglik\"\n",
        "        },\n",
        "        \"discussion\": {\n",
        "            \"title\": \" Sizce Nestle Oral \\u0130mpact Ne Kadar Etkili Olur? \",\n",
        "            \"content\": \"G\\u00fcnde 1 ya da 2 tane Nestle Oral \\u0130mpact i\\u00e7iyorum. Sizce nas\\u0131l bir i\\u00e7ecek? 237 ml de 341 kalori bulunuyor.\",\n",
        "            \"featured-image\": \"https://www.kizlarsoruyor.com/saglik/q11456969-sizce-nestle-oral-impact-ne-kadar-etkili-olur\"\n",
        "        },\n",
        "        \"posted-by\": {\n",
        "            \"username\": \"DegdirenBerber\",\n",
        "            \"gender\": \"male\",\n",
        "            \"profile-link\": \"https://www.kizlarsoruyor.com/uye/degdirenberber\"\n",
        "        },\n",
        "        \"comments\": [\n",
        "            {\n",
        "                \"commenter\": {\n",
        "                    \"username\": \"___Eyl\\u00fcll___\",\n",
        "                    \"profile-url\": \"https://www.kizlarsoruyor.com/uye/___eylull___\",\n",
        "                    \"gender\": \"female\"\n",
        "                },\n",
        "                \"opinion\": \" Ne bu \",\n",
        "                \"replies\": [\n",
        "                    {\n",
        "                        \"commenter\": {\n",
        "                            \"username\": \"DegdirenBerber\",\n",
        "                            \"profile-url\": \"https://www.kizlarsoruyor.com/uye/degdirenberber\",\n",
        "                            \"gender\": \"male\"\n",
        "                        },\n",
        "                        \"opinion\": \" \\u0130\\u00e7ecek \\ud83e\\udd14 Eczanelerde sat\\u0131l\\u0131yor \"\n",
        "                    },\n",
        "                    {\n",
        "                        \"commenter\": {\n",
        "                            \"username\": \"___Eyl\\u00fcll___\",\n",
        "                            \"profile-url\": \"https://www.kizlarsoruyor.com/uye/___eylull___\",\n",
        "                            \"gender\": \"female\"\n",
        "                        },\n",
        "                        \"opinion\": \" Ne i\\u00e7in ama \"\n",
        "                    },\n",
        "                    {\n",
        "                        \"commenter\": {\n",
        "                            \"username\": \"DegdirenBerber\",\n",
        "                            \"profile-url\": \"https://www.kizlarsoruyor.com/uye/degdirenberber\",\n",
        "                            \"gender\": \"male\"\n",
        "                        },\n",
        "                        \"opinion\": \" Ek g\\u0131da i\\u015fte \"\n",
        "                    }\n",
        "                ]\n",
        "            }\n",
        "        ]\n",
        "    },\n",
        "    {\n",
        "        \"topic\": {\n",
        "            \"name\": \"E\\u011fitim & Kariyer\",\n",
        "            \"url\": \"https://www.kizlarsoruyor.com/egitim-kariyer\"\n",
        "        },\n",
        "        \"discussion\": {\n",
        "            \"title\": \" F\\u0130NANS UZMANI MAA\\u015eI NE KADAR ACABA? ? \",\n",
        "            \"content\": \"B\\u00fcy\\u00fck \\u015firketlerde \\u00e7al\\u0131\\u015fan sabanc\\u0131 nestle pepsico ko\\u00e7 \\u00fclker tarz\\u0131 yerlerde \\u00e7al\\u0131\\u015fan finans uzman\\u0131 ne kadar maa\\u015f al\\u0131r ortalama?\",\n",
        "            \"featured-image\": null\n",
        "        },\n",
        "        \"posted-by\": {\n",
        "            \"username\": \"anonymous user\",\n",
        "            \"gender\": \"female\",\n",
        "            \"profile-link\": null\n",
        "        },\n",
        "        \"comments\": [\n",
        "            {\n",
        "                \"commenter\": {\n",
        "                    \"username\": \"kullanannnn\",\n",
        "                    \"profile-url\": \"https://www.kizlarsoruyor.com/uye/kullanannnn\",\n",
        "                    \"gender\": \"male\"\n",
        "                },\n",
        "                \"opinion\": \" 2, 3,, tok \",\n",
        "                \"replies\": null\n",
        "            }\n",
        "        ]\n",
        "    },\n",
        "    ...\n",
        "```"
      ]
    },
    {
      "cell_type": "markdown",
      "metadata": {
        "id": "UcjZAHVm9R8k"
      },
      "source": [
        "#### The scrap_data function can be conveniently used to fetch data from the given web site as shown below."
      ]
    },
    {
      "cell_type": "code",
      "execution_count": 4,
      "metadata": {
        "id": "x8-QpFypXQ13"
      },
      "outputs": [],
      "source": [
        "from app import scrap_data"
      ]
    },
    {
      "cell_type": "code",
      "execution_count": 7,
      "metadata": {
        "colab": {
          "base_uri": "https://localhost:8080/"
        },
        "id": "xpTTabanYYgn",
        "outputId": "ba29bbd3-8d81-49fc-b661-31738c97b4e4"
      },
      "outputs": [
        {
          "name": "stdout",
          "output_type": "stream",
          "text": [
            "Scrapping...  https://www.kizlarsoruyor.com/ara?q=nestle\n",
            "Scrapping...  https://www.kizlarsoruyor.com/ara?q=nestle&p=2&t=tumu\n",
            "Scrapping...  https://www.kizlarsoruyor.com/ara?q=nestle&p=3&t=tumu\n",
            "Scrapping...  https://www.kizlarsoruyor.com/ara?q=nestle&p=4&t=tumu\n",
            "Scrapping...  https://www.kizlarsoruyor.com/ara?q=nestle&p=5&t=tumu\n",
            "Scrapping...  https://www.kizlarsoruyor.com/ara?q=nestle&p=6&t=tumu\n",
            "Scrapping...  https://www.kizlarsoruyor.com/ara?q=nestle&p=7&t=tumu\n",
            "Scrapping...  https://www.kizlarsoruyor.com/ara?q=nestle&p=8&t=tumu\n",
            "Scrapping...  https://www.kizlarsoruyor.com/ara?q=nestle&p=9&t=tumu\n",
            "Scrapping...  https://www.kizlarsoruyor.com/ara?q=nestle&p=10&t=tumu\n",
            "Scrapping...  https://www.kizlarsoruyor.com/ara?q=nestle&p=11&t=tumu\n",
            "Scrapping...  https://www.kizlarsoruyor.com/ara?q=nestle&p=12&t=tumu\n",
            "Scrapping...  https://www.kizlarsoruyor.com/ara?q=nestle&p=13&t=tumu\n",
            "Scrapping...  https://www.kizlarsoruyor.com/ara?q=nestle&p=14&t=tumu\n",
            "Scrapping...  https://www.kizlarsoruyor.com/ara?q=nestle&p=15&t=tumu\n",
            "Scrapping...  https://www.kizlarsoruyor.com/ara?q=nestle&p=16&t=tumu\n",
            "Scrapping...  https://www.kizlarsoruyor.com/ara?q=nestle&p=17&t=tumu\n"
          ]
        }
      ],
      "source": [
        "scrapped_data = scrap_data('nestle')"
      ]
    },
    {
      "cell_type": "code",
      "execution_count": 9,
      "metadata": {
        "colab": {
          "base_uri": "https://localhost:8080/"
        },
        "id": "eJBn-EssnkBe",
        "outputId": "cd5f9d26-b13b-48e2-e038-d633b92394e7"
      },
      "outputs": [
        {
          "data": {
            "text/plain": [
              "{'topic': {'name': 'Sağlık & Diyet',\n",
              "  'url': 'https://www.kizlarsoruyor.com/saglik'},\n",
              " 'discussion': {'title': ' Sizce Nestle Oral İmpact Ne Kadar Etkili Olur? ',\n",
              "  'content': 'Günde 1 ya da 2 tane Nestle Oral İmpact içiyorum. Sizce nasıl bir içecek? 237 ml de 341 kalori bulunuyor.',\n",
              "  'featured-image': 'https://www.kizlarsoruyor.com/saglik/q11456969-sizce-nestle-oral-impact-ne-kadar-etkili-olur'},\n",
              " 'posted-by': {'username': 'DegdirenBerber',\n",
              "  'gender': 'male',\n",
              "  'profile-link': 'https://www.kizlarsoruyor.com/uye/degdirenberber'},\n",
              " 'comments': [{'commenter': {'username': '___Eylüll___',\n",
              "    'profile-url': 'https://www.kizlarsoruyor.com/uye/___eylull___',\n",
              "    'gender': 'female'},\n",
              "   'opinion': ' Ne bu ',\n",
              "   'replies': [{'commenter': {'username': 'DegdirenBerber',\n",
              "      'profile-url': 'https://www.kizlarsoruyor.com/uye/degdirenberber',\n",
              "      'gender': 'male'},\n",
              "     'opinion': ' İçecek 🤔 Eczanelerde satılıyor '},\n",
              "    {'commenter': {'username': '___Eylüll___',\n",
              "      'profile-url': 'https://www.kizlarsoruyor.com/uye/___eylull___',\n",
              "      'gender': 'female'},\n",
              "     'opinion': ' Ne için ama '},\n",
              "    {'commenter': {'username': 'DegdirenBerber',\n",
              "      'profile-url': 'https://www.kizlarsoruyor.com/uye/degdirenberber',\n",
              "      'gender': 'male'},\n",
              "     'opinion': ' Ek gıda işte '}]}]}"
            ]
          },
          "execution_count": 9,
          "metadata": {},
          "output_type": "execute_result"
        }
      ],
      "source": [
        "scrapped_data[0]"
      ]
    }
  ],
  "metadata": {
    "colab": {
      "provenance": []
    },
    "kernelspec": {
      "display_name": "Python 3",
      "name": "python3"
    },
    "language_info": {
      "name": "python"
    }
  },
  "nbformat": 4,
  "nbformat_minor": 0
}

{
 "cells": [
  {
   "cell_type": "code",
   "execution_count": 3,
   "id": "5ae7c111-9c56-44c6-80ab-a91e9d849af9",
   "metadata": {},
   "outputs": [],
   "source": [
    "from app import get_json"
   ]
  },
  {
   "cell_type": "code",
   "execution_count": 4,
   "id": "06a95e55-fe22-47e7-8c83-3a8b6ee5793c",
   "metadata": {},
   "outputs": [
    {
     "name": "stdout",
     "output_type": "stream",
     "text": [
      "Scrapping...  https://www.kizlarsoruyor.com/ara?q=nestle\n"
     ]
    },
    {
     "ename": "AttributeError",
     "evalue": "'NoneType' object has no attribute 'find_all'",
     "output_type": "error",
     "traceback": [
      "\u001b[1;31m---------------------------------------------------------------------------\u001b[0m",
      "\u001b[1;31mAttributeError\u001b[0m                            Traceback (most recent call last)",
      "Cell \u001b[1;32mIn[4], line 1\u001b[0m\n\u001b[1;32m----> 1\u001b[0m \u001b[43mget_json\u001b[49m\u001b[43m(\u001b[49m\u001b[38;5;124;43m'\u001b[39;49m\u001b[38;5;124;43mnestle\u001b[39;49m\u001b[38;5;124;43m'\u001b[39;49m\u001b[43m)\u001b[49m\n",
      "File \u001b[1;32mC:\\Ritesh\\web scraping\\kizlarsoruyor\\app.py:13\u001b[0m, in \u001b[0;36mget_json\u001b[1;34m(keyword)\u001b[0m\n\u001b[0;32m     10\u001b[0m \u001b[38;5;66;03m# Create a web scrapper for the given website\u001b[39;00m\n\u001b[0;32m     11\u001b[0m scrapper \u001b[38;5;241m=\u001b[39m Scrapper(session)\n\u001b[1;32m---> 13\u001b[0m data \u001b[38;5;241m=\u001b[39m \u001b[43mscrapper\u001b[49m\u001b[38;5;241;43m.\u001b[39;49m\u001b[43mparse_page\u001b[49m\u001b[43m(\u001b[49m\u001b[43m)\u001b[49m\n\u001b[0;32m     15\u001b[0m \u001b[38;5;66;03m# Store the results in a json file.\u001b[39;00m\n\u001b[0;32m     16\u001b[0m \u001b[38;5;28;01mwith\u001b[39;00m \u001b[38;5;28mopen\u001b[39m(\u001b[38;5;124mf\u001b[39m\u001b[38;5;124m'\u001b[39m\u001b[38;5;124m./results/discussions_\u001b[39m\u001b[38;5;132;01m{\u001b[39;00mkeyword\u001b[38;5;132;01m}\u001b[39;00m\u001b[38;5;124m.json\u001b[39m\u001b[38;5;124m'\u001b[39m, \u001b[38;5;124m'\u001b[39m\u001b[38;5;124mw\u001b[39m\u001b[38;5;124m'\u001b[39m) \u001b[38;5;28;01mas\u001b[39;00m json_file:\n",
      "File \u001b[1;32mC:\\Ritesh\\web scraping\\kizlarsoruyor\\scrapper\\scrapper.py:37\u001b[0m, in \u001b[0;36mScrapper.parse_page\u001b[1;34m(self)\u001b[0m\n\u001b[0;32m     34\u001b[0m discussions \u001b[38;5;241m=\u001b[39m soup\u001b[38;5;241m.\u001b[39mfind(\u001b[38;5;124m'\u001b[39m\u001b[38;5;124mdiv\u001b[39m\u001b[38;5;124m'\u001b[39m, class_\u001b[38;5;241m=\u001b[39m\u001b[38;5;124m'\u001b[39m\u001b[38;5;124mfilter-section\u001b[39m\u001b[38;5;124m'\u001b[39m)\n\u001b[0;32m     36\u001b[0m \u001b[38;5;66;03m# parse discussions\u001b[39;00m\n\u001b[1;32m---> 37\u001b[0m _ \u001b[38;5;241m=\u001b[39m \u001b[38;5;28;43mself\u001b[39;49m\u001b[38;5;241;43m.\u001b[39;49m\u001b[43mparse_discussions\u001b[49m\u001b[43m(\u001b[49m\u001b[43mdiscussions\u001b[49m\u001b[43m,\u001b[49m\u001b[43m \u001b[49m\u001b[43mresult\u001b[49m\u001b[43m)\u001b[49m\n\u001b[0;32m     39\u001b[0m \u001b[38;5;66;03m# Get the div containing the URL of the next page.\u001b[39;00m\n\u001b[0;32m     40\u001b[0m show_more_div \u001b[38;5;241m=\u001b[39m discussions\u001b[38;5;241m.\u001b[39mfind(\u001b[38;5;124m'\u001b[39m\u001b[38;5;124mdiv\u001b[39m\u001b[38;5;124m'\u001b[39m, class_\u001b[38;5;241m=\u001b[39m\u001b[38;5;124m'\u001b[39m\u001b[38;5;124mshow-more\u001b[39m\u001b[38;5;124m'\u001b[39m)\n",
      "File \u001b[1;32mC:\\Ritesh\\web scraping\\kizlarsoruyor\\scrapper\\scrapper.py:66\u001b[0m, in \u001b[0;36mScrapper.parse_discussions\u001b[1;34m(self, discussions, result)\u001b[0m\n\u001b[0;32m     56\u001b[0m \u001b[38;5;28;01mdef\u001b[39;00m \u001b[38;5;21mparse_discussions\u001b[39m(\u001b[38;5;28mself\u001b[39m, discussions, result\u001b[38;5;241m=\u001b[39m[]):\n\u001b[0;32m     57\u001b[0m \t\u001b[38;5;66;03m# I am interested in the topic the discussion belongs to.\u001b[39;00m\n\u001b[0;32m     58\u001b[0m \t\u001b[38;5;66;03m# The user who started the discussion.\u001b[39;00m\n\u001b[1;32m   (...)\u001b[0m\n\u001b[0;32m     64\u001b[0m \n\u001b[0;32m     65\u001b[0m \t\u001b[38;5;66;03m# Get all questions.\u001b[39;00m\n\u001b[1;32m---> 66\u001b[0m \tquestions \u001b[38;5;241m=\u001b[39m \u001b[43mdiscussions\u001b[49m\u001b[38;5;241;43m.\u001b[39;49m\u001b[43mfind_all\u001b[49m(\u001b[38;5;124m'\u001b[39m\u001b[38;5;124mdiv\u001b[39m\u001b[38;5;124m'\u001b[39m, class_\u001b[38;5;241m=\u001b[39m\u001b[38;5;124m'\u001b[39m\u001b[38;5;124mquestion\u001b[39m\u001b[38;5;124m'\u001b[39m)\n\u001b[0;32m     68\u001b[0m \t\u001b[38;5;28;01mfor\u001b[39;00m question \u001b[38;5;129;01min\u001b[39;00m questions:\n\u001b[0;32m     69\u001b[0m \t\tdata \u001b[38;5;241m=\u001b[39m {}\n",
      "\u001b[1;31mAttributeError\u001b[0m: 'NoneType' object has no attribute 'find_all'"
     ]
    }
   ],
   "source": [
    "get_json('nestle')"
   ]
  },
  {
   "cell_type": "code",
   "execution_count": null,
   "id": "0338352d-9f8c-48c3-abce-bd9688404dc9",
   "metadata": {},
   "outputs": [],
   "source": []
  },
  {
   "cell_type": "code",
   "execution_count": null,
   "id": "db1c5459-6a05-41d1-949f-2705f8c8adaf",
   "metadata": {},
   "outputs": [],
   "source": []
  }
 ],
 "metadata": {
  "kernelspec": {
   "display_name": "Python 3 (ipykernel)",
   "language": "python",
   "name": "python3"
  },
  "language_info": {
   "codemirror_mode": {
    "name": "ipython",
    "version": 3
   },
   "file_extension": ".py",
   "mimetype": "text/x-python",
   "name": "python",
   "nbconvert_exporter": "python",
   "pygments_lexer": "ipython3",
   "version": "3.11.5"
  }
 },
 "nbformat": 4,
 "nbformat_minor": 5
}
